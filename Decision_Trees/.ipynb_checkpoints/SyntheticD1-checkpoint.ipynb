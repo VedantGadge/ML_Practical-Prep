{
 "cells": [
  {
   "cell_type": "code",
   "execution_count": 52,
   "id": "f16fc9e4-378d-4062-99fb-5054b114fe16",
   "metadata": {},
   "outputs": [],
   "source": [
    "import pandas as pd\n",
    "from sklearn.model_selection import train_test_split\n",
    "from sklearn import tree\n",
    "from sklearn.datasets import make_classification\n",
    "\n",
    "X, y = make_classification(n_samples=100,    # number of rows\n",
    "                           n_features=4,     # number of features\n",
    "                           n_informative=3,  # informative features\n",
    "                           n_redundant=1,    # redundant features\n",
    "                           n_classes=2,      # number of classes\n",
    "                           random_state=420)\n"
   ]
  },
  {
   "cell_type": "code",
   "execution_count": 53,
   "id": "dcce4bd3-b1ca-4afe-9277-c946c5792833",
   "metadata": {},
   "outputs": [],
   "source": [
    "df = pd.DataFrame(X, columns=['Feature1', 'Feature2', 'Feature3', 'Feature4'])\n",
    "df['Target'] = y"
   ]
  },
  {
   "cell_type": "code",
   "execution_count": 54,
   "id": "16636e17-2a33-474c-b915-9afbb4f01140",
   "metadata": {},
   "outputs": [
    {
     "data": {
      "text/html": [
       "<div>\n",
       "<style scoped>\n",
       "    .dataframe tbody tr th:only-of-type {\n",
       "        vertical-align: middle;\n",
       "    }\n",
       "\n",
       "    .dataframe tbody tr th {\n",
       "        vertical-align: top;\n",
       "    }\n",
       "\n",
       "    .dataframe thead th {\n",
       "        text-align: right;\n",
       "    }\n",
       "</style>\n",
       "<table border=\"1\" class=\"dataframe\">\n",
       "  <thead>\n",
       "    <tr style=\"text-align: right;\">\n",
       "      <th></th>\n",
       "      <th>Feature1</th>\n",
       "      <th>Feature2</th>\n",
       "      <th>Feature3</th>\n",
       "      <th>Feature4</th>\n",
       "      <th>Target</th>\n",
       "    </tr>\n",
       "  </thead>\n",
       "  <tbody>\n",
       "    <tr>\n",
       "      <th>0</th>\n",
       "      <td>0.519655</td>\n",
       "      <td>-1.394095</td>\n",
       "      <td>-0.041190</td>\n",
       "      <td>-0.992812</td>\n",
       "      <td>0</td>\n",
       "    </tr>\n",
       "    <tr>\n",
       "      <th>1</th>\n",
       "      <td>2.005392</td>\n",
       "      <td>-0.663462</td>\n",
       "      <td>0.619684</td>\n",
       "      <td>1.537700</td>\n",
       "      <td>0</td>\n",
       "    </tr>\n",
       "    <tr>\n",
       "      <th>2</th>\n",
       "      <td>-1.126203</td>\n",
       "      <td>1.041031</td>\n",
       "      <td>0.191673</td>\n",
       "      <td>-1.447678</td>\n",
       "      <td>1</td>\n",
       "    </tr>\n",
       "    <tr>\n",
       "      <th>3</th>\n",
       "      <td>2.858029</td>\n",
       "      <td>-1.697778</td>\n",
       "      <td>0.817152</td>\n",
       "      <td>1.152899</td>\n",
       "      <td>0</td>\n",
       "    </tr>\n",
       "    <tr>\n",
       "      <th>4</th>\n",
       "      <td>-1.575776</td>\n",
       "      <td>0.390345</td>\n",
       "      <td>-0.714551</td>\n",
       "      <td>-0.712006</td>\n",
       "      <td>1</td>\n",
       "    </tr>\n",
       "  </tbody>\n",
       "</table>\n",
       "</div>"
      ],
      "text/plain": [
       "   Feature1  Feature2  Feature3  Feature4  Target\n",
       "0  0.519655 -1.394095 -0.041190 -0.992812       0\n",
       "1  2.005392 -0.663462  0.619684  1.537700       0\n",
       "2 -1.126203  1.041031  0.191673 -1.447678       1\n",
       "3  2.858029 -1.697778  0.817152  1.152899       0\n",
       "4 -1.575776  0.390345 -0.714551 -0.712006       1"
      ]
     },
     "execution_count": 54,
     "metadata": {},
     "output_type": "execute_result"
    }
   ],
   "source": [
    "df.head()"
   ]
  },
  {
   "cell_type": "code",
   "execution_count": 55,
   "id": "6f60bcd3-9338-453e-bb26-16e98c76ea5b",
   "metadata": {},
   "outputs": [
    {
     "data": {
      "text/plain": [
       "Feature1   -0.487218\n",
       "Feature2    0.715675\n",
       "Feature3    0.294603\n",
       "Feature4   -0.438836\n",
       "Target      1.000000\n",
       "Name: Target, dtype: float64"
      ]
     },
     "execution_count": 55,
     "metadata": {},
     "output_type": "execute_result"
    }
   ],
   "source": [
    "df.corr()['Target']"
   ]
  },
  {
   "cell_type": "code",
   "execution_count": 56,
   "id": "3c3144f0-9e3d-41fb-8c9c-7e1388f42bf4",
   "metadata": {},
   "outputs": [],
   "source": [
    "df = df.drop(['Feature3'],axis='columns')"
   ]
  },
  {
   "cell_type": "code",
   "execution_count": 57,
   "id": "1cf16d17-c7d7-42c7-a6b7-e8fcb67b66f9",
   "metadata": {},
   "outputs": [],
   "source": [
    "X_train,X_test,y_train,y_test = train_test_split(X,y,random_state=42)"
   ]
  },
  {
   "cell_type": "code",
   "execution_count": 58,
   "id": "9510aafc-7566-4623-803b-205f583b936b",
   "metadata": {},
   "outputs": [
    {
     "data": {
      "text/plain": [
       "0.92"
      ]
     },
     "execution_count": 58,
     "metadata": {},
     "output_type": "execute_result"
    }
   ],
   "source": [
    "model = tree.DecisionTreeClassifier()\n",
    "model.fit(X_train,y_train)\n",
    "model.score(X_test,y_test)"
   ]
  }
 ],
 "metadata": {
  "kernelspec": {
   "display_name": "Python 3 (ipykernel)",
   "language": "python",
   "name": "python3"
  },
  "language_info": {
   "codemirror_mode": {
    "name": "ipython",
    "version": 3
   },
   "file_extension": ".py",
   "mimetype": "text/x-python",
   "name": "python",
   "nbconvert_exporter": "python",
   "pygments_lexer": "ipython3",
   "version": "3.11.4"
  },
  "widgets": {
   "application/vnd.jupyter.widget-state+json": {
    "state": {},
    "version_major": 2,
    "version_minor": 0
   }
  }
 },
 "nbformat": 4,
 "nbformat_minor": 5
}
