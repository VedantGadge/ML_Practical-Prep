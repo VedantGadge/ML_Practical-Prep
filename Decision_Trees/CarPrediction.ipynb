{
 "cells": [
  {
   "cell_type": "code",
   "execution_count": 299,
   "id": "820941f2",
   "metadata": {},
   "outputs": [
    {
     "data": {
      "application/vnd.microsoft.datawrangler.viewer.v0+json": {
       "columns": [
        {
         "name": "index",
         "rawType": "int64",
         "type": "integer"
        },
        {
         "name": "Make",
         "rawType": "object",
         "type": "string"
        },
        {
         "name": "Model",
         "rawType": "object",
         "type": "string"
        },
        {
         "name": "Year",
         "rawType": "int64",
         "type": "integer"
        },
        {
         "name": "Engine Fuel Type",
         "rawType": "object",
         "type": "string"
        },
        {
         "name": "Engine HP",
         "rawType": "float64",
         "type": "float"
        },
        {
         "name": "Engine Cylinders",
         "rawType": "float64",
         "type": "float"
        },
        {
         "name": "Transmission Type",
         "rawType": "object",
         "type": "string"
        },
        {
         "name": "Driven_Wheels",
         "rawType": "object",
         "type": "string"
        },
        {
         "name": "Number of Doors",
         "rawType": "float64",
         "type": "float"
        },
        {
         "name": "Market Category",
         "rawType": "object",
         "type": "string"
        },
        {
         "name": "Vehicle Size",
         "rawType": "object",
         "type": "string"
        },
        {
         "name": "Vehicle Style",
         "rawType": "object",
         "type": "string"
        },
        {
         "name": "highway MPG",
         "rawType": "int64",
         "type": "integer"
        },
        {
         "name": "city mpg",
         "rawType": "int64",
         "type": "integer"
        },
        {
         "name": "Popularity",
         "rawType": "int64",
         "type": "integer"
        },
        {
         "name": "MSRP",
         "rawType": "int64",
         "type": "integer"
        }
       ],
       "conversionMethod": "pd.DataFrame",
       "ref": "2d923a85-ddea-4ca6-912b-3725251dc519",
       "rows": [
        [
         "0",
         "BMW",
         "1 Series M",
         "2011",
         "premium unleaded (required)",
         "335.0",
         "6.0",
         "MANUAL",
         "rear wheel drive",
         "2.0",
         "Factory Tuner,Luxury,High-Performance",
         "Compact",
         "Coupe",
         "26",
         "19",
         "3916",
         "46135"
        ],
        [
         "1",
         "BMW",
         "1 Series",
         "2011",
         "premium unleaded (required)",
         "300.0",
         "6.0",
         "MANUAL",
         "rear wheel drive",
         "2.0",
         "Luxury,Performance",
         "Compact",
         "Convertible",
         "28",
         "19",
         "3916",
         "40650"
        ],
        [
         "2",
         "BMW",
         "1 Series",
         "2011",
         "premium unleaded (required)",
         "300.0",
         "6.0",
         "MANUAL",
         "rear wheel drive",
         "2.0",
         "Luxury,High-Performance",
         "Compact",
         "Coupe",
         "28",
         "20",
         "3916",
         "36350"
        ],
        [
         "3",
         "BMW",
         "1 Series",
         "2011",
         "premium unleaded (required)",
         "230.0",
         "6.0",
         "MANUAL",
         "rear wheel drive",
         "2.0",
         "Luxury,Performance",
         "Compact",
         "Coupe",
         "28",
         "18",
         "3916",
         "29450"
        ],
        [
         "4",
         "BMW",
         "1 Series",
         "2011",
         "premium unleaded (required)",
         "230.0",
         "6.0",
         "MANUAL",
         "rear wheel drive",
         "2.0",
         "Luxury",
         "Compact",
         "Convertible",
         "28",
         "18",
         "3916",
         "34500"
        ]
       ],
       "shape": {
        "columns": 16,
        "rows": 5
       }
      },
      "text/html": [
       "<div>\n",
       "<style scoped>\n",
       "    .dataframe tbody tr th:only-of-type {\n",
       "        vertical-align: middle;\n",
       "    }\n",
       "\n",
       "    .dataframe tbody tr th {\n",
       "        vertical-align: top;\n",
       "    }\n",
       "\n",
       "    .dataframe thead th {\n",
       "        text-align: right;\n",
       "    }\n",
       "</style>\n",
       "<table border=\"1\" class=\"dataframe\">\n",
       "  <thead>\n",
       "    <tr style=\"text-align: right;\">\n",
       "      <th></th>\n",
       "      <th>Make</th>\n",
       "      <th>Model</th>\n",
       "      <th>Year</th>\n",
       "      <th>Engine Fuel Type</th>\n",
       "      <th>Engine HP</th>\n",
       "      <th>Engine Cylinders</th>\n",
       "      <th>Transmission Type</th>\n",
       "      <th>Driven_Wheels</th>\n",
       "      <th>Number of Doors</th>\n",
       "      <th>Market Category</th>\n",
       "      <th>Vehicle Size</th>\n",
       "      <th>Vehicle Style</th>\n",
       "      <th>highway MPG</th>\n",
       "      <th>city mpg</th>\n",
       "      <th>Popularity</th>\n",
       "      <th>MSRP</th>\n",
       "    </tr>\n",
       "  </thead>\n",
       "  <tbody>\n",
       "    <tr>\n",
       "      <th>0</th>\n",
       "      <td>BMW</td>\n",
       "      <td>1 Series M</td>\n",
       "      <td>2011</td>\n",
       "      <td>premium unleaded (required)</td>\n",
       "      <td>335.0</td>\n",
       "      <td>6.0</td>\n",
       "      <td>MANUAL</td>\n",
       "      <td>rear wheel drive</td>\n",
       "      <td>2.0</td>\n",
       "      <td>Factory Tuner,Luxury,High-Performance</td>\n",
       "      <td>Compact</td>\n",
       "      <td>Coupe</td>\n",
       "      <td>26</td>\n",
       "      <td>19</td>\n",
       "      <td>3916</td>\n",
       "      <td>46135</td>\n",
       "    </tr>\n",
       "    <tr>\n",
       "      <th>1</th>\n",
       "      <td>BMW</td>\n",
       "      <td>1 Series</td>\n",
       "      <td>2011</td>\n",
       "      <td>premium unleaded (required)</td>\n",
       "      <td>300.0</td>\n",
       "      <td>6.0</td>\n",
       "      <td>MANUAL</td>\n",
       "      <td>rear wheel drive</td>\n",
       "      <td>2.0</td>\n",
       "      <td>Luxury,Performance</td>\n",
       "      <td>Compact</td>\n",
       "      <td>Convertible</td>\n",
       "      <td>28</td>\n",
       "      <td>19</td>\n",
       "      <td>3916</td>\n",
       "      <td>40650</td>\n",
       "    </tr>\n",
       "    <tr>\n",
       "      <th>2</th>\n",
       "      <td>BMW</td>\n",
       "      <td>1 Series</td>\n",
       "      <td>2011</td>\n",
       "      <td>premium unleaded (required)</td>\n",
       "      <td>300.0</td>\n",
       "      <td>6.0</td>\n",
       "      <td>MANUAL</td>\n",
       "      <td>rear wheel drive</td>\n",
       "      <td>2.0</td>\n",
       "      <td>Luxury,High-Performance</td>\n",
       "      <td>Compact</td>\n",
       "      <td>Coupe</td>\n",
       "      <td>28</td>\n",
       "      <td>20</td>\n",
       "      <td>3916</td>\n",
       "      <td>36350</td>\n",
       "    </tr>\n",
       "    <tr>\n",
       "      <th>3</th>\n",
       "      <td>BMW</td>\n",
       "      <td>1 Series</td>\n",
       "      <td>2011</td>\n",
       "      <td>premium unleaded (required)</td>\n",
       "      <td>230.0</td>\n",
       "      <td>6.0</td>\n",
       "      <td>MANUAL</td>\n",
       "      <td>rear wheel drive</td>\n",
       "      <td>2.0</td>\n",
       "      <td>Luxury,Performance</td>\n",
       "      <td>Compact</td>\n",
       "      <td>Coupe</td>\n",
       "      <td>28</td>\n",
       "      <td>18</td>\n",
       "      <td>3916</td>\n",
       "      <td>29450</td>\n",
       "    </tr>\n",
       "    <tr>\n",
       "      <th>4</th>\n",
       "      <td>BMW</td>\n",
       "      <td>1 Series</td>\n",
       "      <td>2011</td>\n",
       "      <td>premium unleaded (required)</td>\n",
       "      <td>230.0</td>\n",
       "      <td>6.0</td>\n",
       "      <td>MANUAL</td>\n",
       "      <td>rear wheel drive</td>\n",
       "      <td>2.0</td>\n",
       "      <td>Luxury</td>\n",
       "      <td>Compact</td>\n",
       "      <td>Convertible</td>\n",
       "      <td>28</td>\n",
       "      <td>18</td>\n",
       "      <td>3916</td>\n",
       "      <td>34500</td>\n",
       "    </tr>\n",
       "  </tbody>\n",
       "</table>\n",
       "</div>"
      ],
      "text/plain": [
       "  Make       Model  Year             Engine Fuel Type  Engine HP  \\\n",
       "0  BMW  1 Series M  2011  premium unleaded (required)      335.0   \n",
       "1  BMW    1 Series  2011  premium unleaded (required)      300.0   \n",
       "2  BMW    1 Series  2011  premium unleaded (required)      300.0   \n",
       "3  BMW    1 Series  2011  premium unleaded (required)      230.0   \n",
       "4  BMW    1 Series  2011  premium unleaded (required)      230.0   \n",
       "\n",
       "   Engine Cylinders Transmission Type     Driven_Wheels  Number of Doors  \\\n",
       "0               6.0            MANUAL  rear wheel drive              2.0   \n",
       "1               6.0            MANUAL  rear wheel drive              2.0   \n",
       "2               6.0            MANUAL  rear wheel drive              2.0   \n",
       "3               6.0            MANUAL  rear wheel drive              2.0   \n",
       "4               6.0            MANUAL  rear wheel drive              2.0   \n",
       "\n",
       "                         Market Category Vehicle Size Vehicle Style  \\\n",
       "0  Factory Tuner,Luxury,High-Performance      Compact         Coupe   \n",
       "1                     Luxury,Performance      Compact   Convertible   \n",
       "2                Luxury,High-Performance      Compact         Coupe   \n",
       "3                     Luxury,Performance      Compact         Coupe   \n",
       "4                                 Luxury      Compact   Convertible   \n",
       "\n",
       "   highway MPG  city mpg  Popularity   MSRP  \n",
       "0           26        19        3916  46135  \n",
       "1           28        19        3916  40650  \n",
       "2           28        20        3916  36350  \n",
       "3           28        18        3916  29450  \n",
       "4           28        18        3916  34500  "
      ]
     },
     "execution_count": 299,
     "metadata": {},
     "output_type": "execute_result"
    }
   ],
   "source": [
    "import pandas as pd\n",
    "df = pd.read_csv('carprediction.csv')\n",
    "df.head()"
   ]
  },
  {
   "cell_type": "code",
   "execution_count": null,
   "id": "bb2dfafe",
   "metadata": {},
   "outputs": [
    {
     "data": {
      "text/plain": [
       "Make                    0\n",
       "Model                   0\n",
       "Year                    0\n",
       "Engine Fuel Type        3\n",
       "Engine HP              69\n",
       "Engine Cylinders       30\n",
       "Transmission Type       0\n",
       "Driven_Wheels           0\n",
       "Number of Doors         6\n",
       "Market Category      3742\n",
       "Vehicle Size            0\n",
       "Vehicle Style           0\n",
       "highway MPG             0\n",
       "city mpg                0\n",
       "Popularity              0\n",
       "MSRP                    0\n",
       "dtype: int64"
      ]
     },
     "execution_count": 300,
     "metadata": {},
     "output_type": "execute_result"
    }
   ],
   "source": [
    "df.isna().sum() #Checking no of null values in each column"
   ]
  },
  {
   "cell_type": "code",
   "execution_count": null,
   "id": "ad04ce37",
   "metadata": {},
   "outputs": [],
   "source": [
    "df = df.drop('Market Category',axis='columns') #Dropping this column as it has more than 30% null values"
   ]
  },
  {
   "cell_type": "code",
   "execution_count": 302,
   "id": "86f5fdac",
   "metadata": {},
   "outputs": [
    {
     "name": "stdout",
     "output_type": "stream",
     "text": [
      "(11914, 15)\n",
      "          Make       Model  Year                Engine Fuel Type  Engine HP  \\\n",
      "0          BMW  1 Series M  2011     premium unleaded (required)      335.0   \n",
      "1          BMW    1 Series  2011     premium unleaded (required)      300.0   \n",
      "2          BMW    1 Series  2011     premium unleaded (required)      300.0   \n",
      "3          BMW    1 Series  2011     premium unleaded (required)      230.0   \n",
      "4          BMW    1 Series  2011     premium unleaded (required)      230.0   \n",
      "...        ...         ...   ...                             ...        ...   \n",
      "11909    Acura         ZDX  2012     premium unleaded (required)      300.0   \n",
      "11910    Acura         ZDX  2012     premium unleaded (required)      300.0   \n",
      "11911    Acura         ZDX  2012     premium unleaded (required)      300.0   \n",
      "11912    Acura         ZDX  2013  premium unleaded (recommended)      300.0   \n",
      "11913  Lincoln      Zephyr  2006                regular unleaded      221.0   \n",
      "\n",
      "       Engine Cylinders Transmission Type      Driven_Wheels  Number of Doors  \\\n",
      "0                   6.0            MANUAL   rear wheel drive              2.0   \n",
      "1                   6.0            MANUAL   rear wheel drive              2.0   \n",
      "2                   6.0            MANUAL   rear wheel drive              2.0   \n",
      "3                   6.0            MANUAL   rear wheel drive              2.0   \n",
      "4                   6.0            MANUAL   rear wheel drive              2.0   \n",
      "...                 ...               ...                ...              ...   \n",
      "11909               6.0         AUTOMATIC    all wheel drive              4.0   \n",
      "11910               6.0         AUTOMATIC    all wheel drive              4.0   \n",
      "11911               6.0         AUTOMATIC    all wheel drive              4.0   \n",
      "11912               6.0         AUTOMATIC    all wheel drive              4.0   \n",
      "11913               6.0         AUTOMATIC  front wheel drive              4.0   \n",
      "\n",
      "      Vehicle Size  Vehicle Style  highway MPG  city mpg  Popularity  \n",
      "0          Compact          Coupe           26        19        3916  \n",
      "1          Compact    Convertible           28        19        3916  \n",
      "2          Compact          Coupe           28        20        3916  \n",
      "3          Compact          Coupe           28        18        3916  \n",
      "4          Compact    Convertible           28        18        3916  \n",
      "...            ...            ...          ...       ...         ...  \n",
      "11909      Midsize  4dr Hatchback           23        16         204  \n",
      "11910      Midsize  4dr Hatchback           23        16         204  \n",
      "11911      Midsize  4dr Hatchback           23        16         204  \n",
      "11912      Midsize  4dr Hatchback           23        16         204  \n",
      "11913      Midsize          Sedan           26        17          61  \n",
      "\n",
      "[11914 rows x 14 columns]\n"
     ]
    }
   ],
   "source": [
    "print(df.shape)\n",
    "input = df.iloc[:,:14]\n",
    "print(input)\n"
   ]
  },
  {
   "cell_type": "code",
   "execution_count": 303,
   "id": "dfb782ca",
   "metadata": {},
   "outputs": [
    {
     "name": "stdout",
     "output_type": "stream",
     "text": [
      "0        46135\n",
      "1        40650\n",
      "2        36350\n",
      "3        29450\n",
      "4        34500\n",
      "         ...  \n",
      "11909    46120\n",
      "11910    56670\n",
      "11911    50620\n",
      "11912    50920\n",
      "11913    28995\n",
      "Name: MSRP, Length: 11914, dtype: int64\n"
     ]
    }
   ],
   "source": [
    "target = df['MSRP']\n",
    "print(target)"
   ]
  },
  {
   "cell_type": "code",
   "execution_count": 304,
   "id": "13b2e18d",
   "metadata": {},
   "outputs": [
    {
     "name": "stdout",
     "output_type": "stream",
     "text": [
      "Encoded Make: [ 4  3 12 31 10 33 47 29 32 13  1 45 30 28 36 37 39 15 19 35 18 34 43 14\n",
      "  8 21  5  9 11 22 25 42 46 41  7  0 38 27 24  2 23 26 20 40 16 17 44  6]\n",
      "Encoded Model: [  3   2   4   5   6   8   9  10  12  11   7  15  14  17  18  16  19  20\n",
      "  21  22  23  24  25  13  27  26  28  29  30  31  32  33  36  35  38  41\n",
      "  37  39  40  42  43  45  46  44  47  34  50  49  51  52  53  55  54  56\n",
      "  57  48  58  59  60  61  62  63  64  65  66  67  68   0  69   1  70  73\n",
      "  72  71  74  75  76  77  78  79  80  81  83  82  84  85  86  87  95  94\n",
      "  96  97  99 100 101  98 102 103 104 105 106 107 108 109 904 903  88  89\n",
      " 110 112 111 113  90 114 115 116 117 119 118  92  93  91 120 121 123 122\n",
      " 124 125 126 127 128 129 130 132 131 133 135 136 134 137 139 141 140 142\n",
      " 143 144 145 146 147 148 149 150 151 153 152 154 155 138 156 157 160 161\n",
      " 162 163 164 186 185 187 188 190 189 191 193 194 192 195 196 197 198 199\n",
      " 200 201 202 203 205 204 165 206 207 208 209 210 211 212 213 214 216 217\n",
      " 215 158 159 167 168 166 218 169 170 219 220 221 222 225 224 228 227 229\n",
      " 226 231 230 233 232 223 235 234 236 238 237 239 240 242 241 243 171 172\n",
      " 244 245 246 247 248 250 249 173 174 176 179 180 178 177 175 251 252 254\n",
      " 255 256 253 181 182 183 184 262 263 264 265 257 259 258 260 267 266 268\n",
      " 269 271 272 270 261 273 274 275 276 277 905 278 279 280 281 290 289 291\n",
      " 293 292 295 296 297 294 298 299 300 301 302 303 304 305 306 308 309 307\n",
      " 310 311 312 313 314 282 284 283 285 286 316 317 318 315 320 319 321 322\n",
      " 323 324 325 327 326 288 328 329 287 330 333 332 331 334 336 335 338 339\n",
      " 337 340 341 342 350 343 351 352 354 353 355 344 356 357 358 360 361 359\n",
      " 362 363 364 365 345 366 367 368 369 371 370 347 348 349 346 375 372 373\n",
      " 374 376 378 380 381 382 379 377 383 384 386 385 409 410 412 411 413 415\n",
      " 414 387 388 389 391 390 392 393 394 417 418 419 420 416 424 425 426 427\n",
      " 428 421 423 422 395 396 397 398 399 400 401 402 404 403 405 406 407 408\n",
      " 429 430 431 435 434 436 432 433 437 906 438 439 907 908 441 440 450 449\n",
      " 451 453 452 909 454 455 456 457 910 442 444 443 445 447 446 448 458 461\n",
      " 462 463 460 464 465 466 467 459 468 469 485 487 488 486 489 490 491 492\n",
      " 493 495 496 497 494 498 470 471 499 472 473 474 476 477 478 479 475 480\n",
      " 481 500 502 501 482 483 484 504 505 507 508 509 506 511 512 510 514 513\n",
      " 516 515 532 533 535 536 537 538 534 539 541 540 542 543 544 545 546 547\n",
      " 548 503 517 549 550 551 552 554 553 518 519 520 521 523 522 524 555 556\n",
      " 558 557 559 561 560 525 526 528 527 562 564 563 565 567 566 529 530 531\n",
      " 573 574 575 576 577 578 579 568 569 571 572 570 580 581 583 582 584 586\n",
      " 585 588 589 590 591 592 593 594 595 596 598 599 597 600 601 602 603 604\n",
      " 607 606 608 605 609 610 612 611 613 587 614 615 616 617 619 618 620 621\n",
      " 623 622 631 632 625 626 627 628 629 630 624 633 634 635 660 661 662 663\n",
      " 636 637 664 665 666 667 668 669 671 672 670 673 675 674 639 640 638 641\n",
      " 642 643 644 645 676 677 678 679 680 681 682 683 684 646 647 685 687 686\n",
      " 688 689 648 649 650 651 652 653 654 655 656 657 658 659 691 690 693 692\n",
      " 694 695 696 698 697 699 702 701 700 704 703 706 705 707 729 728 730 732\n",
      " 731 734 733 708 709 710 735 736 737 738 739 740 741 742 743 744 745 746\n",
      " 748 749 747 750 751 752 753 754 755 757 758 756 759 760 711 712 713 714\n",
      " 717 716 715 718 761 763 762 764 765 766 768 767 770 769 771 772 773 774\n",
      " 775 719 720 721 722 723 776 777 778 725 724 779 780 781 782 783 784 785\n",
      " 726 786 727 787 788 797 799 800 798 802 801 789 911 803 804 805 806 807\n",
      " 808 809 810 790 791 811 812 814 813 816 815 817 819 818 820 821 822 823\n",
      " 824 825 827 826 828 793 792 795 794 796 829 830 831 832 833 835 834 836\n",
      " 837 839 838 840 842 841 843 845 846 844 847 848 849 850 851 852 853 854\n",
      " 856 855 857 858 859 860 861 862 863 866 865 867 864 868 869 870 871 873\n",
      " 872 875 874 912 913 877 878 879 876 914 880 881 882 883 885 884 887 890\n",
      " 888 886 889 892 891 894 895 896 893 897 899 898 900 901 902]\n",
      "Encoded Engine Fuel Type: [ 8  9  7  4  0  1  2  6  3  5 10]\n",
      "Encoded Transmission Type: [3 1 0 2 4]\n",
      "Encoded Driven_Wheels: [3 2 0 1]\n",
      "Encoded Vehicle Size: [0 2 1]\n",
      "Encoded Vehicle Style: [ 8  6 14 15  2  0  3 11  4  9 13 10  1  5  7 12]\n"
     ]
    }
   ],
   "source": [
    "\n",
    "\n",
    "from sklearn.preprocessing import LabelEncoder\n",
    "\n",
    "# Identify non-numerical columns\n",
    "non_numeric_cols = input.select_dtypes(exclude=['number']).columns\n",
    "\n",
    "# Loop through and encode each non-numerical column\n",
    "for col in non_numeric_cols:\n",
    "    le = LabelEncoder()\n",
    "    input[col] = le.fit_transform(input[col])\n",
    "    print(f\"Encoded {col}: {input[col].unique()}\")\n",
    "\n"
   ]
  },
  {
   "cell_type": "code",
   "execution_count": 305,
   "id": "6fab5f8c",
   "metadata": {},
   "outputs": [],
   "source": [
    "input['Engine Cylinders'] = input['Engine Cylinders'].fillna(input['Engine Cylinders'].mode())\n",
    "input['Engine HP'] = input['Engine HP'].fillna(input['Engine HP'].mean())"
   ]
  },
  {
   "cell_type": "code",
   "execution_count": 306,
   "id": "c0da1da0",
   "metadata": {},
   "outputs": [],
   "source": [
    "from sklearn.model_selection import train_test_split\n",
    "\n",
    "X_train, X_test, y_train,y_test = train_test_split(input,target,test_size=0.2)"
   ]
  },
  {
   "cell_type": "code",
   "execution_count": 307,
   "id": "d4219c80",
   "metadata": {},
   "outputs": [
    {
     "data": {
      "text/plain": [
       "0.9749608528446132"
      ]
     },
     "execution_count": 307,
     "metadata": {},
     "output_type": "execute_result"
    }
   ],
   "source": [
    "from sklearn import tree\n",
    "\n",
    "model = tree.DecisionTreeRegressor()\n",
    "model.fit(X_train,y_train)\n",
    "model.score(X_test,y_test)\n"
   ]
  }
 ],
 "metadata": {
  "kernelspec": {
   "display_name": "Python 3",
   "language": "python",
   "name": "python3"
  },
  "language_info": {
   "codemirror_mode": {
    "name": "ipython",
    "version": 3
   },
   "file_extension": ".py",
   "mimetype": "text/x-python",
   "name": "python",
   "nbconvert_exporter": "python",
   "pygments_lexer": "ipython3",
   "version": "3.11.4"
  }
 },
 "nbformat": 4,
 "nbformat_minor": 5
}
