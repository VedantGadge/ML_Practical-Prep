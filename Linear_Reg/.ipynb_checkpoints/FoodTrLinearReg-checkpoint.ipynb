{
 "cells": [
  {
   "cell_type": "code",
   "execution_count": 6,
   "id": "b8950a8d-fdbd-44f1-9133-97f1cb9b9f77",
   "metadata": {},
   "outputs": [],
   "source": [
    "import pandas as pd\n",
    "import matplotlib.pyplot as plt\n",
    "import seaborn as sns"
   ]
  },
  {
   "cell_type": "code",
   "execution_count": 5,
   "id": "21dcf9ea-3810-4f0e-b57f-b1dea962c861",
   "metadata": {},
   "outputs": [
    {
     "data": {
      "text/html": [
       "<div>\n",
       "<style scoped>\n",
       "    .dataframe tbody tr th:only-of-type {\n",
       "        vertical-align: middle;\n",
       "    }\n",
       "\n",
       "    .dataframe tbody tr th {\n",
       "        vertical-align: top;\n",
       "    }\n",
       "\n",
       "    .dataframe thead th {\n",
       "        text-align: right;\n",
       "    }\n",
       "</style>\n",
       "<table border=\"1\" class=\"dataframe\">\n",
       "  <thead>\n",
       "    <tr style=\"text-align: right;\">\n",
       "      <th></th>\n",
       "      <th>Population</th>\n",
       "      <th>Profit</th>\n",
       "    </tr>\n",
       "  </thead>\n",
       "  <tbody>\n",
       "    <tr>\n",
       "      <th>0</th>\n",
       "      <td>6.1101</td>\n",
       "      <td>17.5920</td>\n",
       "    </tr>\n",
       "    <tr>\n",
       "      <th>1</th>\n",
       "      <td>5.5277</td>\n",
       "      <td>9.1302</td>\n",
       "    </tr>\n",
       "    <tr>\n",
       "      <th>2</th>\n",
       "      <td>8.5186</td>\n",
       "      <td>13.6620</td>\n",
       "    </tr>\n",
       "    <tr>\n",
       "      <th>3</th>\n",
       "      <td>7.0032</td>\n",
       "      <td>11.8540</td>\n",
       "    </tr>\n",
       "    <tr>\n",
       "      <th>4</th>\n",
       "      <td>5.8598</td>\n",
       "      <td>6.8233</td>\n",
       "    </tr>\n",
       "  </tbody>\n",
       "</table>\n",
       "</div>"
      ],
      "text/plain": [
       "   Population   Profit\n",
       "0      6.1101  17.5920\n",
       "1      5.5277   9.1302\n",
       "2      8.5186  13.6620\n",
       "3      7.0032  11.8540\n",
       "4      5.8598   6.8233"
      ]
     },
     "execution_count": 5,
     "metadata": {},
     "output_type": "execute_result"
    }
   ],
   "source": [
    "data = pd.read_csv('Food_Truck_Data.csv')\n",
    "data.head()\n"
   ]
  },
  {
   "cell_type": "code",
   "execution_count": 11,
   "id": "471ced1b-bec0-476b-8eba-f29b3b3dec01",
   "metadata": {},
   "outputs": [
    {
     "data": {
      "text/plain": [
       "Text(0.5, 1.0, 'Profit vs Population')"
      ]
     },
     "execution_count": 11,
     "metadata": {},
     "output_type": "execute_result"
    },
    {
     "data": {
      "image/png": "[encoded data removed]",
      "text/plain": [
       "<Figure size 640x480 with 1 Axes>"
      ]
     },
     "metadata": {},
     "output_type": "display_data"
    }
   ],
   "source": [
    "sns.scatterplot(x=\"Population\",y='Profit',data=data).set_title('Profit vs Population')"
   ]
  },
  {
   "cell_type": "code",
   "execution_count": 23,
   "id": "b9a29e26-0028-4aed-a0dd-526af75745e1",
   "metadata": {},
   "outputs": [],
   "source": [
    "def loss_fn(m,b,points):\n",
    "    total_error = 0\n",
    "    for i in range(len(points)):\n",
    "        x = points.iloc[i].Population\n",
    "        y = points.iloc[i].Profit\n",
    "        total_error += y - (m * x + b) ** 2\n",
    "    total_error / float(len(points))\n",
    "\n",
    "def gradient_fn(m_now , b_now , points , L):\n",
    "    m_gradient = 0\n",
    "    b_gradient = 0\n",
    "    n = len(points)\n",
    "    for i in range(len(points)):\n",
    "        x = points.iloc[i].Population\n",
    "        y = points.iloc[i].Profit\n",
    "\n",
    "        m_gradient += -(2/n) * x * (y - ( m_now * x + b_now))\n",
    "        b_gradient += -(2/n) * (y - ( m_now * x + b_now))\n",
    "    m = m_now - L * m_gradient\n",
    "    b = b_now - L * b_gradient\n",
    "    return m , b\n"
   ]
  },
  {
   "cell_type": "code",
   "execution_count": 24,
   "id": "7ec7776d-c31f-487e-ac56-7cff3b4e7dec",
   "metadata": {},
   "outputs": [
    {
     "name": "stdout",
     "output_type": "stream",
     "text": [
      "0\n",
      "100\n",
      "200\n",
      "300\n",
      "400\n",
      "500\n"
     ]
    },
    {
     "name": "stderr",
     "output_type": "stream",
     "text": [
      "C:\\Users\\Welcome\\AppData\\Local\\Temp\\ipykernel_24844\\1686131455.py:17: RuntimeWarning: overflow encountered in scalar multiply\n",
      "  m_gradient += -(2/n) * x * (y - ( m_now * x * + b_now))\n",
      "C:\\Users\\Welcome\\AppData\\Local\\Temp\\ipykernel_24844\\1686131455.py:18: RuntimeWarning: invalid value encountered in scalar add\n",
      "  b_gradient += -(2/n) * (y - ( m_now * x + b_now))\n"
     ]
    },
    {
     "name": "stdout",
     "output_type": "stream",
     "text": [
      "600\n",
      "700\n",
      "800\n",
      "900\n",
      "nan nan\n"
     ]
    }
   ],
   "source": [
    "m = 0\n",
    "b = 0\n",
    "L = 0.0001\n",
    "epochs = 1000\n",
    "\n",
    "for i in range(epochs):\n",
    "    if i%100==0:\n",
    "        print(i)\n",
    "    m, b = gradient_fn(m, b, data, L)\n",
    "\n",
    "print(m,b)"
   ]
  },
  {
   "cell_type": "code",
   "execution_count": 22,
   "id": "530fa38c-3317-49a1-8186-9d9ce2f41787",
   "metadata": {},
   "outputs": [
    {
     "data": {
      "text/plain": [
       "[<matplotlib.lines.Line2D at 0x19e446a0d50>]"
      ]
     },
     "execution_count": 22,
     "metadata": {},
     "output_type": "execute_result"
    },
    {
     "data": {
      "image/png": "[encoded data removed]",
      "text/plain": [
       "<Figure size 640x480 with 1 Axes>"
      ]
     },
     "metadata": {},
     "output_type": "display_data"
    }
   ],
   "source": [
    "plt.scatter(data.Population , data.Profit , color = \"black\")\n",
    "plt.plot([m * x + b for x in range(20,80)], color = \"red\")"
   ]
  },
  {
   "cell_type": "code",
   "execution_count": null,
   "id": "2c2e71d7-a466-46e6-83af-c5d58f1fc831",
   "metadata": {},
   "outputs": [],
   "source": []
  }
 ],
 "metadata": {
  "kernelspec": {
   "display_name": "Python 3 (ipykernel)",
   "language": "python",
   "name": "python3"
  },
  "language_info": {
   "codemirror_mode": {
    "name": "ipython",
    "version": 3
   },
   "file_extension": ".py",
   "mimetype": "text/x-python",
   "name": "python",
   "nbconvert_exporter": "python",
   "pygments_lexer": "ipython3",
   "version": "3.11.4"
  },
  "widgets": {
   "application/vnd.jupyter.widget-state+json": {
    "state": {},
    "version_major": 2,
    "version_minor": 0
   }
  }
 },
 "nbformat": 4,
 "nbformat_minor": 5
}
